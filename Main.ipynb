{
 "cells": [
  {
   "cell_type": "markdown",
   "metadata": {
    "id": "cR2J7GXlVxBv"
   },
   "source": [
    "## Installation"
   ]
  },
  {
   "cell_type": "code",
   "execution_count": null,
   "metadata": {
    "id": "YNDJLDW0rFgD"
   },
   "outputs": [],
   "source": [
    "# Clone the License-Plate-Detection Repository\n",
    "!git clone https://github.com/aligh993/License-Plate-Detection\n",
    "\n",
    "# Navigate to the Cloned Directory\n",
    "!cd License-Plate-Detection\n",
    "\n",
    "# Install Required Packages\n",
    "!pip install -r requirements.txt"
   ]
  },
  {
   "cell_type": "markdown",
   "metadata": {
    "id": "vopkEv1IT1_G"
   },
   "source": [
    "## Dataset\n",
    "\n",
    "Put the labeled dataset **`license_plate_dataset`** you downloaded from [**Google Drive**](https://B2n.ir/yn5201) in **`./License-Plate-Detection/Dataset/`**"
   ]
  },
  {
   "cell_type": "markdown",
   "metadata": {},
   "source": [
    "\n",
    "**`dataset.yaml`** file's for the address and information of dataset (such as train/test/validation image address, class name and number of classes) is in the main directory of the project."
   ]
  },
  {
   "cell_type": "markdown",
   "metadata": {
    "id": "4-0AJSxIbvZH"
   },
   "source": [
    "## Train\n",
    "\n",
    "Train model on the License Plate Dataset .Pre Trained Models download automatically from the latest YOLOv5 release, but you can download manually YOLOv5 Pre Trained Model **`yolov5l.pt`** you downloaded from [**Ultralytics YOLOv5**](https://github.com/ultralytics/yolov5/releases/download/v7.0/yolov5l.pt) and put it in **`./pre_trained_model/`**"
   ]
  },
  {
   "cell_type": "code",
   "execution_count": null,
   "metadata": {
    "id": "9Pg1WlGwbxxE"
   },
   "outputs": [],
   "source": [
    "# fine-tuning on a pre-trained model of yolov5\n",
    "!python ./train.py --img 640 --batch 16 --epochs 60 --data ./dataset.yaml --weights ./pre_trained_model/yolov5l.pt --cache"
   ]
  },
  {
   "cell_type": "markdown",
   "metadata": {
    "id": "I9Ni_a3Zb0Tu"
   },
   "source": [
    "## Test\n",
    "\n",
    "Test model on the dataset. Put the weight **`best.pt`** you downloaded from [**Google Drive**](https://drive.google.com/drive/folders/140Nr6HFVJaci0K97u8OU10fCotNgWMoy) in **`./runs/train/yolov5-l/weights/`**"
   ]
  },
  {
   "cell_type": "code",
   "execution_count": null,
   "metadata": {
    "id": "qcFyLtL2cSiF"
   },
   "outputs": [],
   "source": [
    "# after train, it gives you weight of train and you can use it for tests.\n",
    "!python ./detect.py --source ./test_images/ --weight ./runs/train/yolov5-l/weights/best.pt"
   ]
  },
  {
   "cell_type": "markdown",
   "metadata": {},
   "source": [
    "## Validate\n",
    "\n",
    "Validate model on the dataset. Put the weight **`best.pt`** you downloaded from [**Google Drive**](https://drive.google.com/drive/folders/140Nr6HFVJaci0K97u8OU10fCotNgWMoy) in **`./runs/train/yolov5-l/weights/`**"
   ]
  },
  {
   "cell_type": "code",
   "execution_count": null,
   "metadata": {
    "id": "2hJ1SjMR-d6c"
   },
   "outputs": [],
   "source": [
    "!python ./val.py --data ./dataset.yaml --weights ./runs/train/yolov5-l/weights/best.pt"
   ]
  },
  {
   "cell_type": "markdown",
   "metadata": {},
   "source": [
    " "
   ]
  },
  {
   "cell_type": "markdown",
   "metadata": {
    "id": "Lo3cuhNdViJ7"
   },
   "source": [
    "## Run License-Plate-Detection Project in Google Colab"
   ]
  },
  {
   "cell_type": "code",
   "execution_count": null,
   "metadata": {
    "id": "IPXiqnn95jl8"
   },
   "outputs": [],
   "source": [
    "!nvidia-smi"
   ]
  },
  {
   "cell_type": "code",
   "execution_count": null,
   "metadata": {
    "id": "wCJAl4ViRX0I"
   },
   "outputs": [],
   "source": [
    "# Clone the License-Plate-Detection Repository\n",
    "!git clone https://github.com/aligh993/License-Plate-Detection\n",
    "\n",
    "# Navigate to the Cloned Directory\n",
    "!cd License-Plate-Detection\n",
    "\n",
    "# Install Required Packages\n",
    "!pip install -r requirements.txt"
   ]
  },
  {
   "cell_type": "code",
   "execution_count": null,
   "metadata": {
    "id": "qGZfU1GXXYir"
   },
   "outputs": [],
   "source": [
    "from google.colab import drive\n",
    "drive.mount('/content/drive')"
   ]
  },
  {
   "cell_type": "code",
   "execution_count": null,
   "metadata": {
    "id": "pCBT3UQFMRJi"
   },
   "outputs": [],
   "source": [
    "!cp -r ./content/License-Plate-Detection ./content/drive/MyDrive/Colab_Notebooks/"
   ]
  },
  {
   "cell_type": "code",
   "execution_count": null,
   "metadata": {
    "id": "w86K5qiRNMpp"
   },
   "outputs": [],
   "source": [
    "!mv ../license_plate_dataset ./License-Plate-Detection/Dataset/"
   ]
  }
 ],
 "metadata": {
  "colab": {
   "collapsed_sections": [],
   "provenance": []
  },
  "gpuClass": "standard",
  "kernelspec": {
   "display_name": "Python 3 (ipykernel)",
   "language": "python",
   "name": "python3"
  },
  "language_info": {
   "codemirror_mode": {
    "name": "ipython",
    "version": 3
   },
   "file_extension": ".py",
   "mimetype": "text/x-python",
   "name": "python",
   "nbconvert_exporter": "python",
   "pygments_lexer": "ipython3",
   "version": "3.12.4"
  }
 },
 "nbformat": 4,
 "nbformat_minor": 4
}
